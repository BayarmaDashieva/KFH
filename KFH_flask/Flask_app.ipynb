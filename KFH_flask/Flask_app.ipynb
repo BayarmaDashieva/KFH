{
 "cells": [
  {
   "cell_type": "code",
   "execution_count": null,
   "id": "09078e9f",
   "metadata": {
    "colab": {
     "base_uri": "https://localhost:8080/"
    },
    "id": "09078e9f",
    "outputId": "c828224f-994c-43d7-91ad-cb3fb49b7dcc"
   },
   "outputs": [
    {
     "name": "stdout",
     "output_type": "stream",
     "text": [
      " * Serving Flask app \"__main__\" (lazy loading)\n",
      " * Environment: production\n",
      "\u001b[31m   WARNING: This is a development server. Do not use it in a production deployment.\u001b[0m\n",
      "\u001b[2m   Use a production WSGI server instead.\u001b[0m\n",
      " * Debug mode: off\n"
     ]
    },
    {
     "name": "stderr",
     "output_type": "stream",
     "text": [
      " * Running on http://127.0.0.1:5000/ (Press CTRL+C to quit)\n",
      "127.0.0.1 - - [25/Apr/2023 23:53:04] \"GET / HTTP/1.1\" 200 -\n"
     ]
    },
    {
     "name": "stdout",
     "output_type": "stream",
     "text": [
      "\r",
      "1/1 [==============================] - ETA: 0s"
     ]
    },
    {
     "name": "stderr",
     "output_type": "stream",
     "text": [
      "C:\\Users\\DELL\\anaconda3\\lib\\site-packages\\sklearn\\base.py:329: UserWarning: Trying to unpickle estimator StandardScaler from version 1.2.2 when using version 1.0.2. This might lead to breaking code or invalid results. Use at your own risk. For more info please refer to:\n",
      "https://scikit-learn.org/stable/modules/model_persistence.html#security-maintainability-limitations\n",
      "  warnings.warn(\n",
      "C:\\Users\\DELL\\anaconda3\\lib\\site-packages\\sklearn\\base.py:450: UserWarning: X does not have valid feature names, but StandardScaler was fitted with feature names\n",
      "  warnings.warn(\n"
     ]
    },
    {
     "name": "stdout",
     "output_type": "stream",
     "text": [
      "1/1 [==============================] - 0s 109ms/step\n",
      "y_pred_use = [[500.84595]]\n",
      "1/1 [==============================] - 0s 24ms/step\n"
     ]
    },
    {
     "name": "stderr",
     "output_type": "stream",
     "text": [
      "127.0.0.1 - - [25/Apr/2023 23:53:16] \"POST / HTTP/1.1\" 200 -\n"
     ]
    },
    {
     "name": "stdout",
     "output_type": "stream",
     "text": [
      "y_pred_use_standard = [[0.14929162]]\n",
      "y_pred_use_standard_inv = [9.04613575]\n",
      "y_pred_use_normalized_inv = [5024.12978278]\n",
      "1/1 [==============================] - 0s 25ms/step\n",
      "y_pred_use = [[296.00607]]\n",
      "1/1 [==============================] - 0s 24ms/step\n"
     ]
    },
    {
     "name": "stderr",
     "output_type": "stream",
     "text": [
      "C:\\Users\\DELL\\anaconda3\\lib\\site-packages\\sklearn\\base.py:329: UserWarning: Trying to unpickle estimator StandardScaler from version 1.2.2 when using version 1.0.2. This might lead to breaking code or invalid results. Use at your own risk. For more info please refer to:\n",
      "https://scikit-learn.org/stable/modules/model_persistence.html#security-maintainability-limitations\n",
      "  warnings.warn(\n",
      "C:\\Users\\DELL\\anaconda3\\lib\\site-packages\\sklearn\\base.py:450: UserWarning: X does not have valid feature names, but StandardScaler was fitted with feature names\n",
      "  warnings.warn(\n",
      "127.0.0.1 - - [25/Apr/2023 23:53:56] \"POST / HTTP/1.1\" 200 -\n"
     ]
    },
    {
     "name": "stdout",
     "output_type": "stream",
     "text": [
      "y_pred_use_standard = [[0.18203102]]\n",
      "y_pred_use_standard_inv = [9.09445519]\n",
      "y_pred_use_normalized_inv = [5244.51209672]\n",
      "1/1 [==============================] - 0s 24ms/step\n",
      "y_pred_use = [[79.39731]]\n",
      "1/1 [==============================] - 0s 24ms/step\n"
     ]
    },
    {
     "name": "stderr",
     "output_type": "stream",
     "text": [
      "C:\\Users\\DELL\\anaconda3\\lib\\site-packages\\sklearn\\base.py:329: UserWarning: Trying to unpickle estimator StandardScaler from version 1.2.2 when using version 1.0.2. This might lead to breaking code or invalid results. Use at your own risk. For more info please refer to:\n",
      "https://scikit-learn.org/stable/modules/model_persistence.html#security-maintainability-limitations\n",
      "  warnings.warn(\n",
      "C:\\Users\\DELL\\anaconda3\\lib\\site-packages\\sklearn\\base.py:450: UserWarning: X does not have valid feature names, but StandardScaler was fitted with feature names\n",
      "  warnings.warn(\n",
      "127.0.0.1 - - [25/Apr/2023 23:54:18] \"POST / HTTP/1.1\" 200 -\n"
     ]
    },
    {
     "name": "stdout",
     "output_type": "stream",
     "text": [
      "y_pred_use_standard = [[-0.22203673]]\n",
      "y_pred_use_standard_inv = [8.49809951]\n",
      "y_pred_use_normalized_inv = [3081.80806787]\n",
      "1/1 [==============================] - 0s 24ms/step\n",
      "y_pred_use = [[1193.4205]]\n",
      "1/1 [==============================] - 0s 24ms/step\n"
     ]
    },
    {
     "name": "stderr",
     "output_type": "stream",
     "text": [
      "C:\\Users\\DELL\\anaconda3\\lib\\site-packages\\sklearn\\base.py:329: UserWarning: Trying to unpickle estimator StandardScaler from version 1.2.2 when using version 1.0.2. This might lead to breaking code or invalid results. Use at your own risk. For more info please refer to:\n",
      "https://scikit-learn.org/stable/modules/model_persistence.html#security-maintainability-limitations\n",
      "  warnings.warn(\n",
      "C:\\Users\\DELL\\anaconda3\\lib\\site-packages\\sklearn\\base.py:450: UserWarning: X does not have valid feature names, but StandardScaler was fitted with feature names\n",
      "  warnings.warn(\n",
      "127.0.0.1 - - [25/Apr/2023 23:54:46] \"POST / HTTP/1.1\" 200 -\n"
     ]
    },
    {
     "name": "stdout",
     "output_type": "stream",
     "text": [
      "y_pred_use_standard = [[1.6162785]]\n",
      "y_pred_use_standard_inv = [11.21123296]\n",
      "y_pred_use_normalized_inv = [33549.2363636]\n",
      "1/1 [==============================] - 0s 16ms/step\n",
      "y_pred_use = [[500.84595]]\n",
      "1/1 [==============================] - 0s 16ms/step\n"
     ]
    },
    {
     "name": "stderr",
     "output_type": "stream",
     "text": [
      "C:\\Users\\DELL\\anaconda3\\lib\\site-packages\\sklearn\\base.py:329: UserWarning: Trying to unpickle estimator StandardScaler from version 1.2.2 when using version 1.0.2. This might lead to breaking code or invalid results. Use at your own risk. For more info please refer to:\n",
      "https://scikit-learn.org/stable/modules/model_persistence.html#security-maintainability-limitations\n",
      "  warnings.warn(\n",
      "C:\\Users\\DELL\\anaconda3\\lib\\site-packages\\sklearn\\base.py:450: UserWarning: X does not have valid feature names, but StandardScaler was fitted with feature names\n",
      "  warnings.warn(\n",
      "127.0.0.1 - - [25/Apr/2023 23:57:12] \"POST / HTTP/1.1\" 200 -\n"
     ]
    },
    {
     "name": "stdout",
     "output_type": "stream",
     "text": [
      "y_pred_use_standard = [[0.14929162]]\n",
      "y_pred_use_standard_inv = [9.04613575]\n",
      "y_pred_use_normalized_inv = [5024.12978278]\n"
     ]
    }
   ],
   "source": [
    "# -*- coding: utf-8 -*-\n",
    "\"\"\"\n",
    "Created on Tue Apr 25 23:07:51 2023\n",
    "\n",
    "@author: ddzyba\n",
    "\"\"\"\n",
    "\n",
    "#!/usr/bin/env python\n",
    "# coding: utf-8\n",
    "\n",
    "#!pip install flask-ngrok\n",
    "\n",
    "\n",
    "import pandas as pd\n",
    "import statsmodels.api as sm\n",
    "import numpy as np\n",
    "from tensorflow import keras\n",
    "import os\n",
    "from sklearn.preprocessing import StandardScaler\n",
    "\n",
    "from scipy import stats\n",
    "\n",
    "import pickle\n",
    "\n",
    "\n",
    "\n",
    "os.environ['KMP_DUPLICATE_LIB_OK']='True'\n",
    "\n",
    "NN3 = keras.saving.load_model('model\\\\NN3')\n",
    "#NN3 = keras.models.load_model('model\\\\NN3')\n",
    "\n",
    "\n",
    "#from google.colab.output import eval_js\n",
    "#print(eval_js(\"google.colab.kernel.proxyPort(5000)\"))\n",
    "\n",
    "from flask import Flask, render_template, request\n",
    "app = Flask(__name__)\n",
    "#app = Flask(__name__, template_folder=r'D:\\Programming\\Python_files\\Flask_projects\\flask 2304\\flask 2304\\KFH2304\\KFH\\templates')\n",
    "\n",
    "\n",
    "\n",
    "\n",
    "# Функция денормализации по yeojohnson\n",
    "#  inverse of the Yeo-Johnson transformation\n",
    "def yeojohnson_inverse(X_trans, lambda_):\n",
    "  '''\n",
    "  if X >= 0 and lambda_ == 0:\n",
    "    X = np.exp(X_trans) - 1\n",
    "  elif X >= 0 and lambda_ != 0:\n",
    "      X = (X_trans * lambda_ + 1) ** (1 / lambda_) - 1\n",
    "  elif X < 0 and lambda_ != 2:\n",
    "      X = 1 - (-(2 - lambda_) * X_trans + 1) ** (1 / (2 - lambda_))\n",
    "  elif X < 0 and lambda_ == 2:\n",
    "      X = 1 - np.exp(-X_trans)\n",
    "  '''\n",
    "\n",
    "  if lambda_ == 0:\n",
    "    X = np.exp(X_trans) - 1\n",
    "  elif lambda_ != 0:\n",
    "    X = (X_trans * lambda_ + 1) ** (1 / lambda_) - 1  \n",
    "\n",
    "  return X\n",
    "\n",
    "\n",
    "\n",
    "\n",
    "\n",
    "\n",
    "\n",
    "\n",
    "def check_params(x1, x2):\n",
    "    message = f\"X1 = {x1}, X2 = {x2}\"\n",
    "    return message\n",
    "\n",
    "def print_params_for_NN(x1, x2, x3):\n",
    "    if (x1 == \"\" or x2 == \"\" or x3 == \"\"):\n",
    "        message = \"ОШИБКА! Вы не ввели параметры.\"\n",
    "    elif(float(x1) >= 0 and float(x2) >=0 and float(x3) >=0):\n",
    "        message = f\"Работники, чел.: {x1}\\nНаличие тракторов, шт.: {x2}\\nОбщая площадь земли, га: {x3}\"\n",
    "    else:\n",
    "        message = \"ОШИБКА! Введенные значения должны быть больше или равны 0.\"\n",
    "    return message\n",
    "\n",
    "def calculate_NN(x1, x2, x3):\n",
    "    X_use = pd.DataFrame([[x1,x2,x3]],columns=['Работники, чел.','Наличие тракторов, шт.','Общая площадь земли, га'])\n",
    "    X_use = np.array([[x1, x2, x3]])\n",
    "    \n",
    "    dummy_column = np.zeros(shape = (X_use.shape[0], 1))\n",
    "    cols_indexes = [0, 3, 5] # Индексы фиктивных столбцов (для Standard Scaler)\n",
    "    X_use_6cols = np.insert(X_use, 0, dummy_column.T, axis = 1)\n",
    "    X_use_6cols = np.insert(X_use_6cols, 3, dummy_column.T, axis = 1)\n",
    "    X_use_6cols = np.insert(X_use_6cols, 5, dummy_column.T, axis = 1)\n",
    "    \n",
    "    # Нормализация по yeojohnson\n",
    "    lamda_list = [0.013865117288407803,\n",
    "                  -1.3939833064592597,\n",
    "                  -0.0542790101104967,\n",
    "                  0,\n",
    "                  -0.030491839284671637,\n",
    "                  0] # Список значений lambda для каждого столбца (у фиктивных = 0)\n",
    "    \n",
    "    X_use_6cols_normalized = X_use_6cols.copy()\n",
    "    \n",
    "    #power_tranformer = PowerTransformer(method = 'yeo-johnson', standardize = False)\n",
    "    \n",
    "    #power_tranformer\n",
    "    X_use_6cols_normalized[:, 1] = stats.yeojohnson(X_use_6cols_normalized[:, 1], lmbda = lamda_list[1]) \n",
    "    X_use_6cols_normalized[:, 2] = stats.yeojohnson(X_use_6cols_normalized[:, 2], lmbda = lamda_list[2]) \n",
    "    X_use_6cols_normalized[:, 4] = stats.yeojohnson(X_use_6cols_normalized[:, 4], lmbda = lamda_list[4]) \n",
    "    \n",
    "    # Загрузка standardscaler\n",
    "    #with open('/content/drive/My Drive/Colab Notebooks/scaler.pkl','wb') as f:\n",
    "        #pickle.dump(standadscaler, f)\n",
    "    with open('scaler\\\\scaler.pkl','rb') as f:\n",
    "        standadscaler = pickle.load(f)\n",
    "    \n",
    "    # Стандартизация\n",
    "    X_use_6cols_standard = standadscaler.transform(X_use_6cols_normalized)\n",
    "    \n",
    "    # Удаление фиктивных столбцов\n",
    "    X_use_standard = np.delete(X_use_6cols_standard, 5, axis = 1)\n",
    "    X_use_standard = np.delete(X_use_standard, 3, axis = 1)\n",
    "    X_use_standard = np.delete(X_use_standard, 0, axis = 1)\n",
    "        \n",
    "    model_loaded = NN3\n",
    "    y_pred_use = model_loaded.predict(X_use)\n",
    "    print('y_pred_use =', y_pred_use)\n",
    "    \n",
    "    \n",
    "    y_pred_use_standard = model_loaded.predict(X_use_standard) # Прогноз по нормализованным и стандартизированным\n",
    "    print('y_pred_use_standard =', y_pred_use_standard)\n",
    "    \n",
    "    y_pred_use_standard_6cols = np.zeros(shape = (X_use.shape[0], 6))\n",
    "    y_pred_use_standard_6cols[:, 0] = y_pred_use_standard[:, 0]\n",
    "    \n",
    "    # Дестандартизация Y_pred\n",
    "    y_pred_use_standard_inv = standadscaler.inverse_transform(y_pred_use_standard_6cols)[:, 0]\n",
    "    print('y_pred_use_standard_inv =', y_pred_use_standard_inv)\n",
    "    \n",
    "    '''\n",
    "    # Денормализация Y_pred (scikit-learn)\n",
    "    y_pred_use_normalized_inv_1 = y_pred_use_standard_inv.copy()\n",
    "    y_pred_use_normalized_inv_1 = power_transformer_Y.inverse_transform(X = y_pred_use_normalized_inv_1.reshape(-1, 1))\n",
    "    print('y_pred_use_normalized_inv_1 =', y_pred_use_normalized_inv_1)\n",
    "    '''\n",
    "    \n",
    "    # Денормализация Y_pred (2 способ, собственная функция)\n",
    "    y_pred_use_normalized_inv_2 = y_pred_use_standard_inv.copy()\n",
    "    y_pred_use_normalized_inv_2 = yeojohnson_inverse(X_trans = y_pred_use_normalized_inv_2, lambda_ = lamda_list[0])\n",
    "    print('y_pred_use_normalized_inv =', y_pred_use_normalized_inv_2)\n",
    "    \n",
    "    \n",
    "    \n",
    "    message = \": \".join([\"Доход, тыс. руб.\", str(y_pred_use_normalized_inv_2[0])])\n",
    "    \n",
    "    \n",
    "    \n",
    "    \n",
    "    \n",
    "    # Содержание\n",
    "    \n",
    "    '''\n",
    "    \n",
    "    standardscaler = StandardScaler()\n",
    "    transform_X = standardscaler.fit_transform(X)\n",
    "    \n",
    "    #res = NN3.predict(transform_X)\n",
    "    res = 1\n",
    "    \n",
    "    \n",
    "    # create empty table with 3 fields\n",
    "    Predict_dataset_like = np.zeros(shape=(len(X), 3) )\n",
    "    # put the predicted values in the right field\n",
    "    Predict_dataset_like[:,0] = res #res[:,0]\n",
    "    # inverse transform and then select the right field\n",
    "    res_inverse = standardscaler.inverse_transform(Predict_dataset_like)[:,0]\n",
    "    message = \": \".join([\"Доход, тыс. руб.\", str(res_inverse[0])])\n",
    "    '''\n",
    "    \n",
    "    \n",
    "    return message\n",
    "\n",
    "@app.route(\"/\", methods=[\"post\", \"get\"])\n",
    "def index():\n",
    "    message = ''\n",
    "    message2 = ''\n",
    "    x1=0\n",
    "    x2=0\n",
    "    x3=0\n",
    "    if request.method == \"POST\":\n",
    "        x1 = request.form.get(\"x1\")\n",
    "        x2 = request.form.get(\"x2\")\n",
    "        x3 = request.form.get(\"x3\")\n",
    "        \n",
    "        message = print_params_for_NN(x1, x2, x3) \n",
    "        if \"ОШИБКА\" not in message:\n",
    "            message2 = calculate_NN(float(x1), float(x2), float(x3))\n",
    "        \n",
    "    return render_template(\"index.html\", message=message, message2=message2, x1=x1, x2=x2, x3=x3)\n",
    "\n",
    "'''\n",
    "if __name__ == '__main__':\n",
    "    app.run(host='0.0.0.0', port=5000)\n",
    "    '''\n",
    "app.run()\n"
   ]
  },
  {
   "cell_type": "code",
   "execution_count": null,
   "id": "c2ce84e8",
   "metadata": {
    "id": "c2ce84e8"
   },
   "outputs": [],
   "source": []
  },
  {
   "cell_type": "code",
   "execution_count": null,
   "id": "7220dc90",
   "metadata": {},
   "outputs": [],
   "source": []
  }
 ],
 "metadata": {
  "colab": {
   "provenance": []
  },
  "kernelspec": {
   "display_name": "Python 3 (ipykernel)",
   "language": "python",
   "name": "python3"
  },
  "language_info": {
   "codemirror_mode": {
    "name": "ipython",
    "version": 3
   },
   "file_extension": ".py",
   "mimetype": "text/x-python",
   "name": "python",
   "nbconvert_exporter": "python",
   "pygments_lexer": "ipython3",
   "version": "3.9.13"
  }
 },
 "nbformat": 4,
 "nbformat_minor": 5
}
