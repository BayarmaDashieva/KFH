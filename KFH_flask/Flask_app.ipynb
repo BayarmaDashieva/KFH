{
 "cells": [
  {
   "cell_type": "code",
   "execution_count": 8,
   "id": "09078e9f",
   "metadata": {
    "colab": {
     "base_uri": "https://localhost:8080/"
    },
    "id": "09078e9f",
    "outputId": "c828224f-994c-43d7-91ad-cb3fb49b7dcc"
   },
   "outputs": [
    {
     "name": "stdout",
     "output_type": "stream",
     "text": [
      " * Serving Flask app \"__main__\" (lazy loading)\n",
      " * Environment: production\n",
      "\u001b[31m   WARNING: This is a development server. Do not use it in a production deployment.\u001b[0m\n",
      "\u001b[2m   Use a production WSGI server instead.\u001b[0m\n",
      " * Debug mode: off\n"
     ]
    },
    {
     "name": "stderr",
     "output_type": "stream",
     "text": [
      " * Running on http://127.0.0.1:5000/ (Press CTRL+C to quit)\n",
      "127.0.0.1 - - [29/Apr/2023 13:51:07] \"GET / HTTP/1.1\" 200 -\n"
     ]
    },
    {
     "name": "stdout",
     "output_type": "stream",
     "text": [
      "1/1 [==============================] - 0s 99ms/step\n"
     ]
    },
    {
     "name": "stderr",
     "output_type": "stream",
     "text": [
      "C:\\Users\\DELL\\anaconda3\\lib\\site-packages\\sklearn\\base.py:450: UserWarning: X does not have valid feature names, but StandardScaler was fitted with feature names\n",
      "  warnings.warn(\n",
      "127.0.0.1 - - [29/Apr/2023 13:51:15] \"POST / HTTP/1.1\" 200 -\n"
     ]
    },
    {
     "name": "stdout",
     "output_type": "stream",
     "text": [
      "y_pred_use_standard = [[1.1291225]]\n",
      "y_pred_use_standard_inv = [10.49224892]\n",
      "y_pred_use_normalized_inv = [17957.91823498]\n"
     ]
    }
   ],
   "source": [
    "import pandas as pd\n",
    "import statsmodels.api as sm\n",
    "import numpy as np\n",
    "from tensorflow import keras\n",
    "from sklearn.preprocessing import StandardScaler\n",
    "from scipy import stats\n",
    "import pickle\n",
    "\n",
    "from flask import Flask, render_template, request\n",
    "app = Flask(__name__)\n",
    "\n",
    "#Загрузка обученной модели нейронной сети\n",
    "model_loaded = keras.saving.load_model('model\\\\NN3')\n",
    "\n",
    "# Функция денормализации по yeojohnson\n",
    "#  inverse of the Yeo-Johnson transformation\n",
    "def yeojohnson_inverse(X_trans, lambda_):\n",
    "  '''\n",
    "  if X >= 0 and lambda_ == 0:\n",
    "    X = np.exp(X_trans) - 1\n",
    "  elif X >= 0 and lambda_ != 0:\n",
    "      X = (X_trans * lambda_ + 1) ** (1 / lambda_) - 1\n",
    "  elif X < 0 and lambda_ != 2:\n",
    "      X = 1 - (-(2 - lambda_) * X_trans + 1) ** (1 / (2 - lambda_))\n",
    "  elif X < 0 and lambda_ == 2:\n",
    "      X = 1 - np.exp(-X_trans)\n",
    "  '''\n",
    "\n",
    "  if lambda_ == 0:\n",
    "    X = np.exp(X_trans) - 1\n",
    "  elif lambda_ != 0:\n",
    "    X = (X_trans * lambda_ + 1) ** (1 / lambda_) - 1  \n",
    "\n",
    "  return X\n",
    "\n",
    "\n",
    "def print_params_for_NN(x1, x2, x3):\n",
    "    if (x1 == \"\" or x2 == \"\" or x3 == \"\"):\n",
    "        message = \"ОШИБКА! Вы не ввели параметры.\"\n",
    "    elif(float(x1) >= 0 and float(x2) >=0 and float(x3) >=0):\n",
    "        message = f\"x1= {x1}; x2= {x2} ; x3= {x3}\"\n",
    "    else:\n",
    "        message = \"ОШИБКА! Введенные значения должны быть больше или равны 0.\"\n",
    "    return message\n",
    "\n",
    "#Функция прогнозоа Y с помощью модели нейронной сети\n",
    "def calculate_NN(x1, x2, x3):\n",
    "    X_use = pd.DataFrame([[x1,x2,x3]],columns=['Работники, чел.','Наличие тракторов, шт.','Общая площадь земли, га'])\n",
    "    X_use = np.array([[x1, x2, x3]])\n",
    "    \n",
    "    dummy_column = np.zeros(shape = (X_use.shape[0], 1))\n",
    "    cols_indexes = [0, 3, 5] # Индексы фиктивных столбцов (для StandardScaler)\n",
    "    X_use_6cols = np.insert(X_use, 0, dummy_column.T, axis = 1)\n",
    "    X_use_6cols = np.insert(X_use_6cols, 3, dummy_column.T, axis = 1)\n",
    "    X_use_6cols = np.insert(X_use_6cols, 5, dummy_column.T, axis = 1)\n",
    "    \n",
    "    # Нормализация по yeojohnson\n",
    "    lamda_list = [0.013865117288407803,\n",
    "                  -1.3939833064592597,\n",
    "                  -0.0542790101104967,\n",
    "                  0,\n",
    "                  -0.030491839284671637,\n",
    "                  0] # Список значений lambda для каждого столбца (у фиктивных столбцлв lambda= 0)\n",
    "    \n",
    "    X_use_6cols_normalized = X_use_6cols.copy()\n",
    "    \n",
    "    #Нормализация факторов по Yeo-Johnson\n",
    "    X_use_6cols_normalized[:, 1] = stats.yeojohnson(X_use_6cols_normalized[:, 1], lmbda = lamda_list[1]) \n",
    "    X_use_6cols_normalized[:, 2] = stats.yeojohnson(X_use_6cols_normalized[:, 2], lmbda = lamda_list[2]) \n",
    "    X_use_6cols_normalized[:, 4] = stats.yeojohnson(X_use_6cols_normalized[:, 4], lmbda = lamda_list[4]) \n",
    "    \n",
    "    # Загрузка standardscaler\n",
    "    with open('scaler\\\\scaler.pkl','rb') as f:\n",
    "        standardscaler = pickle.load(f)\n",
    "    \n",
    "    # Стандартизация факторов по StandardScaler\n",
    "    X_use_6cols_standard = standardscaler.transform(X_use_6cols_normalized)\n",
    "    \n",
    "    # Удаление фиктивных столбцов\n",
    "    X_use_standard = np.delete(X_use_6cols_standard, [5,3,0], axis = 1)\n",
    "    \n",
    "    #Прогноз Y по нормализованным и стандартизированным факторам\n",
    "    y_pred_use_standard = model_loaded.predict(X_use_standard)\n",
    "    print('y_pred_use_standard =', y_pred_use_standard)\n",
    "    \n",
    "    #Создание матрицы с   Y_pred  и пятью фиктивными столбцами \n",
    "    y_pred_use_standard_6cols = np.zeros(shape = (X_use.shape[0], 6))\n",
    "    y_pred_use_standard_6cols[:, 0] = y_pred_use_standard[:, 0]\n",
    "    \n",
    "    #Дестандартизация Y_pred и сохранение только первого столбца из матрицы\n",
    "    y_pred_use_standard_inv = standardscaler.inverse_transform(y_pred_use_standard_6cols)[:, 0]\n",
    "    print('y_pred_use_standard_inv =', y_pred_use_standard_inv)\n",
    "    \n",
    "    #Денормализация Y_pred \n",
    "    y_pred_use_normalized_inv = y_pred_use_standard_inv.copy()\n",
    "    y_pred_use_normalized_inv = yeojohnson_inverse(X_trans = y_pred_use_normalized_inv, lambda_ = lamda_list[0])\n",
    "    print('y_pred_use_normalized_inv =', y_pred_use_normalized_inv)\n",
    "    \n",
    "\n",
    "    message = \": \".join([\"Доход, тыс. руб.\", str(np.round(y_pred_use_normalized_inv[0],2))]) \n",
    "    \n",
    "    return message\n",
    "\n",
    "@app.route(\"/\", methods=[\"post\", \"get\"])\n",
    "def index():\n",
    "    message = ''\n",
    "    message2 = ''\n",
    "    x1=0\n",
    "    x2=0\n",
    "    x3=0\n",
    "    if request.method == \"POST\":\n",
    "        x1 = request.form.get(\"x1\")\n",
    "        x2 = request.form.get(\"x2\")\n",
    "        x3 = request.form.get(\"x3\")\n",
    "        \n",
    "        message = print_params_for_NN(x1, x2, x3) \n",
    "        if \"ОШИБКА\" not in message:\n",
    "            message2 = calculate_NN(float(x1), float(x2), float(x3))\n",
    "        \n",
    "    return render_template(\"index.html\", message=message, message2=message2, x1=x1, x2=x2, x3=x3)\n",
    "\n",
    "app.run()\n"
   ]
  },
  {
   "cell_type": "code",
   "execution_count": null,
   "id": "c2ce84e8",
   "metadata": {
    "id": "c2ce84e8"
   },
   "outputs": [],
   "source": []
  },
  {
   "cell_type": "code",
   "execution_count": null,
   "id": "7220dc90",
   "metadata": {},
   "outputs": [],
   "source": []
  }
 ],
 "metadata": {
  "colab": {
   "provenance": []
  },
  "kernelspec": {
   "display_name": "Python 3 (ipykernel)",
   "language": "python",
   "name": "python3"
  },
  "language_info": {
   "codemirror_mode": {
    "name": "ipython",
    "version": 3
   },
   "file_extension": ".py",
   "mimetype": "text/x-python",
   "name": "python",
   "nbconvert_exporter": "python",
   "pygments_lexer": "ipython3",
   "version": "3.9.13"
  }
 },
 "nbformat": 4,
 "nbformat_minor": 5
}
